{
 "cells": [
  {
   "cell_type": "code",
   "execution_count": null,
   "metadata": {},
   "outputs": [],
   "source": [
    "%pip install --upgrade google-genai"
   ]
  },
  {
   "cell_type": "code",
   "execution_count": 4,
   "metadata": {},
   "outputs": [
    {
     "data": {
      "text/plain": [
       "True"
      ]
     },
     "execution_count": 4,
     "metadata": {},
     "output_type": "execute_result"
    }
   ],
   "source": [
    "from dotenv import load_dotenv\n",
    "load_dotenv(\".env\", override=True)"
   ]
  },
  {
   "cell_type": "code",
   "execution_count": 5,
   "metadata": {},
   "outputs": [],
   "source": [
    "import os"
   ]
  },
  {
   "cell_type": "code",
   "execution_count": 8,
   "metadata": {},
   "outputs": [
    {
     "name": "stderr",
     "output_type": "stream",
     "text": [
      "Both GOOGLE_API_KEY and GEMINI_API_KEY are set. Using GOOGLE_API_KEY.\n"
     ]
    },
    {
     "name": "stdout",
     "output_type": "stream",
     "text": [
      "AI, or Artificial Intelligence, works by enabling computer systems to perform tasks that typically require human intelligence. Instead of being explicitly programmed for every single scenario, AI systems **learn** from data, identify patterns, and make predictions or decisions based on what they've learned.\n",
      "\n",
      "Here's a breakdown of the core concepts:\n",
      "\n",
      "### The Core Idea: Learning from Data\n",
      "\n",
      "At its heart, AI (especially modern AI) is about **pattern recognition and prediction**. It's less about \"thinking\" like a human and more about finding complex relationships in vast amounts of data.\n",
      "\n",
      "Think of it like teaching a child a new skill:\n",
      "\n",
      "1.  **Data (Experience):** You show the child many examples (e.g., hundreds of pictures of cats and dogs, labeled \"cat\" or \"dog\").\n",
      "2.  **Algorithm (Learning Method):** The child tries to figure out what makes a cat a cat, and a dog a dog (e.g., pointed ears vs. floppy ears, whiskers, tail wagging, size). This is the internal \"method\" they use to learn.\n",
      "3.  **Model (Learned Knowledge):** After seeing many examples, the child builds an internal \"model\" in their brain that allows them to identify a new animal as a cat or a dog, even if they've never seen that exact one before.\n",
      "4.  **Prediction/Action (Applying Knowledge):** When shown a new picture, the child can confidently say \"that's a cat!\" or \"that's a dog!\"\n",
      "\n",
      "### How It Works: The Steps\n",
      "\n",
      "1.  **Data Collection & Preparation:**\n",
      "    *   **Data is Fuel:** AI systems need massive amounts of data. This can be text, images, audio, numbers, etc.\n",
      "    *   **Labeling:** For many AI types (like supervised learning), this data needs to be carefully labeled by humans (e.g., \"this is a picture of a car,\" \"this email is spam\").\n",
      "    *   **Cleaning & Preprocessing:** Data is often messy. It needs to be cleaned, formatted, and transformed into a numerical representation that the computer can understand.\n",
      "\n",
      "2.  **Choosing an Algorithm:**\n",
      "    *   Algorithms are the \"recipes\" or set of rules that the AI uses to learn from the data. Different tasks require different algorithms.\n",
      "    *   **Machine Learning (ML):** This is the most common approach to modern AI. It's about training models to learn from data without explicit programming.\n",
      "        *   **Supervised Learning:** Learns from labeled data to predict outcomes (e.g., spam detection, image classification).\n",
      "        *   **Unsupervised Learning:** Finds patterns in unlabeled data (e.g., customer segmentation, anomaly detection).\n",
      "        *   **Reinforcement Learning:** Learns by trial and error through rewards and penalties (e.g., game-playing AI, robotics).\n",
      "    *   **Deep Learning (DL):** A *subset* of Machine Learning that uses neural networks with many \"layers\" (hence \"deep\") to learn complex patterns. This is what powers most advanced AI like large language models (LLMs) and advanced image recognition.\n",
      "\n",
      "3.  **Training the Model:**\n",
      "    *   The chosen algorithm is fed the prepared data.\n",
      "    *   The algorithm adjusts its internal parameters (like knobs on a complex machine) iteratively to minimize errors and make accurate predictions on the training data.\n",
      "    *   This is the \"learning\" phase, where the AI builds its \"model\" of the world based on the patterns it finds. It's essentially creating a complex mathematical function that maps inputs to outputs.\n",
      "\n",
      "4.  **Evaluation & Refinement:**\n",
      "    *   After training, the model is tested on *new, unseen* data (called the validation or test set) to see how well it performs.\n",
      "    *   Performance metrics (accuracy, precision, recall, etc.) are used to assess its effectiveness.\n",
      "    *   If the model isn't performing well enough, engineers will go back to refine the data, adjust the algorithm's settings (hyperparameters), or even choose a different algorithm. This is an iterative process.\n",
      "\n",
      "5.  **Deployment & Inference:**\n",
      "    *   Once the model is trained and validated, it can be deployed to make predictions or decisions in real-world applications.\n",
      "    *   When the deployed model receives new input data, it uses its learned \"knowledge\" to provide an output. This is called \"inference.\"\n",
      "\n",
      "### Key Components AI Relies On:\n",
      "\n",
      "*   **Data:** The lifeblood of modern AI. Quantity and quality are crucial.\n",
      "*   **Algorithms:** The mathematical procedures and rules for learning.\n",
      "*   **Computational Power:** Training complex AI models, especially deep learning ones, requires immense processing power (often using specialized hardware like GPUs).\n",
      "*   **Human Expertise:** Data scientists, AI engineers, and domain experts are essential for preparing data, choosing algorithms, training models, and interpreting results.\n",
      "\n",
      "In essence, AI isn't a single, magical entity. It's a field of computer science that uses various sophisticated techniques, primarily machine learning and deep learning, to enable computers to learn from experience (data) and perform tasks that once exclusively required human cognitive abilities.\n"
     ]
    }
   ],
   "source": [
    "from google import genai\n",
    "from google.genai.types import HttpOptions\n",
    "\n",
    "client = genai.Client(\n",
    "    http_options=HttpOptions(api_version=\"v1\"), \n",
    "    vertexai=False, # only works if billing is enabled. I had to make this false to use older version of gemini api\n",
    "    api_key=os.getenv(\"GEMINI_API_KEY\") # not needed if gcloud acc is setup with billing enabled.\n",
    ")\n",
    "response = client.models.generate_content(\n",
    "    model=\"gemini-2.5-flash\",\n",
    "    contents=\"How does AI work?\",\n",
    ")\n",
    "print(response.text)"
   ]
  },
  {
   "cell_type": "code",
   "execution_count": null,
   "metadata": {},
   "outputs": [],
   "source": []
  }
 ],
 "metadata": {
  "kernelspec": {
   "display_name": "base",
   "language": "python",
   "name": "python3"
  },
  "language_info": {
   "codemirror_mode": {
    "name": "ipython",
    "version": 3
   },
   "file_extension": ".py",
   "mimetype": "text/x-python",
   "name": "python",
   "nbconvert_exporter": "python",
   "pygments_lexer": "ipython3",
   "version": "3.9.16"
  }
 },
 "nbformat": 4,
 "nbformat_minor": 2
}
